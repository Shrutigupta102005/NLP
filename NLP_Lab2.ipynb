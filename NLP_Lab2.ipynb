{
  "nbformat": 4,
  "nbformat_minor": 0,
  "metadata": {
    "colab": {
      "provenance": []
    },
    "kernelspec": {
      "name": "python3",
      "display_name": "Python 3"
    },
    "language_info": {
      "name": "python"
    }
  },
  "cells": [
    {
      "cell_type": "markdown",
      "source": [
        "2.Text Preprocessing\n",
        "\n"
      ],
      "metadata": {
        "id": "L-Oonbvysodc"
      }
    },
    {
      "cell_type": "code",
      "source": [
        "# text = \"the cat jumped from the first floor\"\n"
      ],
      "metadata": {
        "id": "vTmsqRiosvkC"
      },
      "execution_count": null,
      "outputs": []
    },
    {
      "cell_type": "code",
      "source": [
        "import re\n",
        "def remove_html_tags(text){\n",
        "    patern = re.compile('<.*?>')\n",
        "    return pattern.sub(r'', text)\n",
        "}"
      ],
      "metadata": {
        "id": "0FPdi8JOs1S4"
      },
      "execution_count": 1,
      "outputs": []
    },
    {
      "cell_type": "markdown",
      "source": [
        "1. re.match"
      ],
      "metadata": {
        "id": "FnTjawP7ur3X"
      }
    },
    {
      "cell_type": "code",
      "source": [
        "result = re.match('The',r'The  cat jumped from the first floor')\n",
        "print(result)"
      ],
      "metadata": {
        "colab": {
          "base_uri": "https://localhost:8080/"
        },
        "id": "RKLSw5YHs4bi",
        "outputId": "a38d4b8e-5359-49d5-c670-9e41ab9bcd33"
      },
      "execution_count": 6,
      "outputs": [
        {
          "output_type": "stream",
          "name": "stdout",
          "text": [
            "<re.Match object; span=(0, 3), match='The'>\n"
          ]
        }
      ]
    },
    {
      "cell_type": "code",
      "source": [
        "print(result.group())"
      ],
      "metadata": {
        "colab": {
          "base_uri": "https://localhost:8080/"
        },
        "id": "o0cPFuaUtoBk",
        "outputId": "0d7b2a20-c847-4c06-f343-5a7ade31c93f"
      },
      "execution_count": 7,
      "outputs": [
        {
          "output_type": "stream",
          "name": "stdout",
          "text": [
            "The\n"
          ]
        }
      ]
    },
    {
      "cell_type": "markdown",
      "source": [
        "2 re.serach\n"
      ],
      "metadata": {
        "id": "5Gx273PlucQc"
      }
    },
    {
      "cell_type": "code",
      "source": [
        "result = re.search('first',r'The  cat jumped from the first floor')\n",
        "print(result)\n",
        "print(result.group())"
      ],
      "metadata": {
        "colab": {
          "base_uri": "https://localhost:8080/"
        },
        "id": "JjnDb2qOtt_M",
        "outputId": "a5a411dc-6755-4b7e-a85c-51c759bd7276"
      },
      "execution_count": 9,
      "outputs": [
        {
          "output_type": "stream",
          "name": "stdout",
          "text": [
            "<re.Match object; span=(25, 30), match='first'>\n",
            "first\n"
          ]
        }
      ]
    },
    {
      "cell_type": "markdown",
      "source": [
        "3 re.findall()\n",
        "will return the all occurence from the string\n"
      ],
      "metadata": {
        "id": "kDZ5Mq8Juw1Q"
      }
    },
    {
      "cell_type": "code",
      "source": [
        "result = re.findall('first',r'The  cat first jumped from the first floor')\n",
        "print(result)\n"
      ],
      "metadata": {
        "colab": {
          "base_uri": "https://localhost:8080/"
        },
        "id": "o6VEtwZNupQa",
        "outputId": "5da504bd-3b2f-4891-f6a9-f5b2b060dfce"
      },
      "execution_count": 12,
      "outputs": [
        {
          "output_type": "stream",
          "name": "stdout",
          "text": [
            "['first', 'first']\n"
          ]
        }
      ]
    },
    {
      "cell_type": "markdown",
      "source": [
        "Some Patterns\n"
      ],
      "metadata": {
        "id": "WER0JBRkvMFU"
      }
    },
    {
      "cell_type": "markdown",
      "source": [
        "1. /b --> will return the string before that"
      ],
      "metadata": {
        "id": "lSLEbuiYvVT5"
      }
    },
    {
      "cell_type": "code",
      "source": [
        "import re\n",
        "str = r'cat jumped from the first floor'\n",
        "result = re.search(r'jumped\\b',str)\n",
        "print(result)"
      ],
      "metadata": {
        "colab": {
          "base_uri": "https://localhost:8080/"
        },
        "id": "EjPIaPbDu4ud",
        "outputId": "dd4dfbfb-20c4-4158-d50e-0c1b7e3b428e"
      },
      "execution_count": 15,
      "outputs": [
        {
          "output_type": "stream",
          "name": "stdout",
          "text": [
            "<re.Match object; span=(4, 10), match='jumped'>\n"
          ]
        }
      ]
    },
    {
      "cell_type": "markdown",
      "source": [
        "2. /d"
      ],
      "metadata": {
        "id": "94fayEicv1MQ"
      }
    },
    {
      "cell_type": "code",
      "source": [
        "str = \"Todays date is 6 aug 2025\"\n",
        "result = re.findall(\"\\d\",str)\n",
        "print(result)\n",
        "\n",
        "if(result):\n",
        "  print(\"Search successful\")\n",
        "else:\n",
        "  print(\"Search unsuccessful\")"
      ],
      "metadata": {
        "colab": {
          "base_uri": "https://localhost:8080/"
        },
        "id": "vOHABGIZvhxC",
        "outputId": "e0239c8e-f948-4a73-e7ec-3dcfb8a7c7c6"
      },
      "execution_count": 22,
      "outputs": [
        {
          "output_type": "stream",
          "name": "stdout",
          "text": [
            "['6', '2', '0', '2', '5']\n",
            "Search successful\n"
          ]
        }
      ]
    },
    {
      "cell_type": "code",
      "source": [
        "str = \"Todays date is 6 aug 2025\"\n",
        "result = re.findall(\"\\d+\",str)\n",
        "print(result)\n",
        "\n",
        "if(result):\n",
        "  print(\"Search successful\")\n",
        "else:\n",
        "  print(\"Search unsuccessful\")"
      ],
      "metadata": {
        "colab": {
          "base_uri": "https://localhost:8080/"
        },
        "id": "McJEwaq6yK7I",
        "outputId": "c05f608f-340c-4b2f-cda0-ce08babaf9d5"
      },
      "execution_count": 23,
      "outputs": [
        {
          "output_type": "stream",
          "name": "stdout",
          "text": [
            "['6', '2025']\n",
            "Search successful\n"
          ]
        }
      ]
    },
    {
      "cell_type": "markdown",
      "source": [
        "3. /D\n"
      ],
      "metadata": {
        "id": "tthOfXbax_r2"
      }
    },
    {
      "cell_type": "code",
      "source": [
        "str = \"Todays date is 6 aug 2025\"\n",
        "result = re.findall(\"\\D\",str)\n",
        "print(result)\n",
        "\n",
        "if(result):\n",
        "  print(\"Search successful\")\n",
        "else:\n",
        "  print(\"Search unsuccessful\")"
      ],
      "metadata": {
        "colab": {
          "base_uri": "https://localhost:8080/"
        },
        "id": "VTOUdxj7v-Zn",
        "outputId": "bda6c280-f37b-49b9-b1df-8ed39c96569b"
      },
      "execution_count": 21,
      "outputs": [
        {
          "output_type": "stream",
          "name": "stdout",
          "text": [
            "['T', 'o', 'd', 'a', 'y', 's', ' ', 'd', 'a', 't', 'e', ' ', 'i', 's', ' ', ' ', 'a', 'u', 'g', ' ']\n",
            "Search successful\n"
          ]
        }
      ]
    },
    {
      "cell_type": "code",
      "source": [
        "str = \"Todays date is 6 aug 2025\"\n",
        "result = re.findall(\"\\D+\",str)\n",
        "print(result)\n",
        "\n",
        "if(result):\n",
        "  print(\"Search successful\")\n",
        "else:\n",
        "  print(\"Search unsuccessful\")"
      ],
      "metadata": {
        "colab": {
          "base_uri": "https://localhost:8080/"
        },
        "id": "kgegNyizyPoU",
        "outputId": "f0a8fd3b-300f-4bff-e7fe-45e8eb85bb58"
      },
      "execution_count": 24,
      "outputs": [
        {
          "output_type": "stream",
          "name": "stdout",
          "text": [
            "['Todays date is ', ' aug ']\n",
            "Search successful\n"
          ]
        }
      ]
    },
    {
      "cell_type": "markdown",
      "source": [
        "4. /w and /W"
      ],
      "metadata": {
        "id": "UMt1Q78ZzAgs"
      }
    },
    {
      "cell_type": "code",
      "source": [
        "str = \"Todays date is 6 aug 2025\"\n",
        "result = re.findall(\"\\w+\",str)\n",
        "print(result)\n",
        "\n",
        "if(result):\n",
        "  print(\"Search successful\")\n",
        "else:\n",
        "  print(\"Search unsuccessful\")"
      ],
      "metadata": {
        "colab": {
          "base_uri": "https://localhost:8080/"
        },
        "id": "geFx1Ik4x9Mv",
        "outputId": "b37f156f-7e84-4def-ee86-838b1dc4164f"
      },
      "execution_count": 25,
      "outputs": [
        {
          "output_type": "stream",
          "name": "stdout",
          "text": [
            "['Todays', 'date', 'is', '6', 'aug', '2025']\n",
            "Search successful\n"
          ]
        }
      ]
    },
    {
      "cell_type": "code",
      "source": [
        "str = \"Todays date is 6 aug 2025\"\n",
        "result = re.findall(\"\\W\",str)\n",
        "print(result)\n",
        "\n",
        "if(result):\n",
        "  print(\"Search successful\")\n",
        "else:\n",
        "  print(\"Search unsuccessful\")"
      ],
      "metadata": {
        "colab": {
          "base_uri": "https://localhost:8080/"
        },
        "id": "oYsixazXzFyR",
        "outputId": "63ddc233-c5b9-449d-a959-52741f686664"
      },
      "execution_count": 26,
      "outputs": [
        {
          "output_type": "stream",
          "name": "stdout",
          "text": [
            "[' ', ' ', ' ', ' ', ' ']\n",
            "Search successful\n"
          ]
        }
      ]
    },
    {
      "cell_type": "markdown",
      "source": [
        "Meta Characters --> characters with special meaning"
      ],
      "metadata": {
        "id": "V7UMGaPwzfAl"
      }
    },
    {
      "cell_type": "markdown",
      "source": [
        "1 ()matches any char (except newline char)"
      ],
      "metadata": {
        "id": "xzkMd-X4zpFd"
      }
    },
    {
      "cell_type": "code",
      "source": [
        "str = r'the cat jumped from the window '\n",
        "x=re.findall(\"ju.\",str)\n",
        "x2=re.findall(\"ju..\",str)\n",
        "print(x)\n",
        "print(x2)"
      ],
      "metadata": {
        "colab": {
          "base_uri": "https://localhost:8080/"
        },
        "id": "iPopeSVrzJ0T",
        "outputId": "9d460280-2654-442d-9df0-e0ae5e0a1767"
      },
      "execution_count": 28,
      "outputs": [
        {
          "output_type": "stream",
          "name": "stdout",
          "text": [
            "['jum']\n",
            "['jump']\n"
          ]
        }
      ]
    },
    {
      "cell_type": "markdown",
      "source": [
        "2 (^) starts with --> check whether the string starts with the given pattern or not"
      ],
      "metadata": {
        "id": "hnI0Acku0HWF"
      }
    },
    {
      "cell_type": "code",
      "source": [
        "x = re.findall(\"^the\",str)\n",
        "if(x):\n",
        "  print(\"yes\")\n",
        "else:\n",
        "  print(\"no match\")"
      ],
      "metadata": {
        "colab": {
          "base_uri": "https://localhost:8080/"
        },
        "id": "7hlom_JT0BMn",
        "outputId": "893f1127-39dd-4ddc-c06c-ab6f557bbc02"
      },
      "execution_count": 29,
      "outputs": [
        {
          "output_type": "stream",
          "name": "stdout",
          "text": [
            "yes\n"
          ]
        }
      ]
    },
    {
      "cell_type": "markdown",
      "source": [
        "3 ($)  with ends--> check whether the string ends with the given pattern or not"
      ],
      "metadata": {
        "id": "UJ0fRMRU0j3a"
      }
    },
    {
      "cell_type": "code",
      "source": [
        "str = r'the cat jumped from the window'\n",
        "x = re.findall(\"ow$\",str)\n",
        "if(x):\n",
        "  print(\"yes\")\n",
        "else:\n",
        "  print(\"no match\")"
      ],
      "metadata": {
        "colab": {
          "base_uri": "https://localhost:8080/"
        },
        "id": "EPebUIEt0eb8",
        "outputId": "194707cd-8b8b-44f7-e44f-30f4212edf0f"
      },
      "execution_count": 36,
      "outputs": [
        {
          "output_type": "stream",
          "name": "stdout",
          "text": [
            "yes\n"
          ]
        }
      ]
    },
    {
      "cell_type": "markdown",
      "source": [
        "4(*) matches for zero or more occurrence of the pattern to the left of it"
      ],
      "metadata": {
        "id": "-OkfpfMF1Pu-"
      }
    },
    {
      "cell_type": "code",
      "source": [
        "str1 = \" easy eassssssy eay ey\"\n",
        "\n",
        "x = re.findall(\"eas*y\",str1)\n",
        "print(x)\n",
        "if(x):\n",
        "  print(\"yes\")\n",
        "else:\n",
        "  print(\"no match\")"
      ],
      "metadata": {
        "colab": {
          "base_uri": "https://localhost:8080/"
        },
        "id": "a68sHBzr09dD",
        "outputId": "cffe3290-8206-4c07-9d91-dee0bbec06aa"
      },
      "execution_count": 39,
      "outputs": [
        {
          "output_type": "stream",
          "name": "stdout",
          "text": [
            "['easy', 'eassssssy', 'eay']\n",
            "yes\n"
          ]
        }
      ]
    },
    {
      "cell_type": "markdown",
      "source": [
        "5 (+) matches one or more occurence of the pattern to the left of it"
      ],
      "metadata": {
        "id": "zebj2fmr1y8X"
      }
    },
    {
      "cell_type": "code",
      "source": [
        "\n",
        "x = re.findall(\"eas+y\",str1)\n",
        "print(x)\n",
        "if(x):\n",
        "  print(\"yes\")\n",
        "else:\n",
        "  print(\"no match\")"
      ],
      "metadata": {
        "colab": {
          "base_uri": "https://localhost:8080/"
        },
        "id": "jJFfAcKQ1pnq",
        "outputId": "336510aa-1381-4af4-ed2d-27f46c9cccba"
      },
      "execution_count": 40,
      "outputs": [
        {
          "output_type": "stream",
          "name": "stdout",
          "text": [
            "['easy', 'eassssssy']\n",
            "yes\n"
          ]
        }
      ]
    },
    {
      "cell_type": "markdown",
      "source": [
        "6 (?) matches zero or more occurence of the pattern to the left of it"
      ],
      "metadata": {
        "id": "EuuH-Sy32ePF"
      }
    },
    {
      "cell_type": "code",
      "source": [
        "str1 = \" easy eassssssy eay ey\"\n",
        "\n",
        "x = re.findall(\"eas?y\",str1)\n",
        "print(x)\n",
        "if(x):\n",
        "  print(\"yes\")\n",
        "else:\n",
        "  print(\"no match\")"
      ],
      "metadata": {
        "colab": {
          "base_uri": "https://localhost:8080/"
        },
        "id": "sCaabHZg2EtF",
        "outputId": "443539ee-7e98-4502-a05f-8dc84078d3b9"
      },
      "execution_count": 41,
      "outputs": [
        {
          "output_type": "stream",
          "name": "stdout",
          "text": [
            "['easy', 'eay']\n",
            "yes\n"
          ]
        }
      ]
    },
    {
      "cell_type": "markdown",
      "source": [
        "7. (|) either or"
      ],
      "metadata": {
        "id": "B3-xrKHP2y9z"
      }
    },
    {
      "cell_type": "code",
      "source": [
        "str1 = \" easy eassssssy eay ey\"\n",
        "\n",
        "x = re.findall(\"eas|y\",str1)\n",
        "print(x)\n",
        "if(x):\n",
        "  print(\"yes\")\n",
        "else:\n",
        "  print(\"no match\")"
      ],
      "metadata": {
        "colab": {
          "base_uri": "https://localhost:8080/"
        },
        "id": "BJNLiJPH2mRq",
        "outputId": "e86e8330-1da6-486f-f047-13717a4ffb8a"
      },
      "execution_count": 42,
      "outputs": [
        {
          "output_type": "stream",
          "name": "stdout",
          "text": [
            "['eas', 'y', 'eas', 'y', 'y', 'y']\n",
            "yes\n"
          ]
        }
      ]
    },
    {
      "cell_type": "code",
      "source": [],
      "metadata": {
        "id": "-IdR-8k027Bm"
      },
      "execution_count": null,
      "outputs": []
    }
  ]
}